{
 "cells": [
  {
   "cell_type": "markdown",
   "metadata": {},
   "source": [
    "## This is an example"
   ]
  },
  {
   "cell_type": "markdown",
   "metadata": {},
   "source": [
    "Practice Git and Python"
   ]
  },
  {
   "cell_type": "markdown",
   "metadata": {},
   "source": [
    "### Learning objectives and agenda\n",
    "\n",
    "**Learning objective**:\n",
    "\n",
    "After this lesson you should already be able to:\n",
    "* Learn how to clone a group repository into your personal laptop*\n",
    "* Create a new branch\n",
    "* Make code changes, add and commit with suitable message on your _personal branch_\n",
    "* Make pull request to the master branch\n",
    "\n",
    "**Agenda**\n",
    "* First, clone or download the repository from GitHub (Using 'git clone' or GitHub GUI)\n",
    "* Create your own branch and check out that branch ('git checkout -b `yourbranchname`')\n",
    "* Fix the error in the Jupyter Notebook, save changes, add and commit after every fix\n",
    "* Push to your branch ('git push origin `yourbranchname`')\n",
    "* Make pull request to the master branch for code review"
   ]
  },
  {
   "cell_type": "markdown",
   "metadata": {},
   "source": [
    "First we will import pandas and numpys, there are some errors, please fix and commit them"
   ]
  },
  {
   "cell_type": "code",
   "execution_count": 2,
   "metadata": {},
   "outputs": [],
   "source": [
    "import pandas as pd #SEC: fix \"panda\" to \"pandas\"\n",
    "import numpy as np #SEC: fix \"numpi\" to \"numpy\""
   ]
  },
  {
   "cell_type": "markdown",
   "metadata": {},
   "source": [
    "There are some errors here as well, please fix and commit them "
   ]
  },
  {
   "cell_type": "code",
   "execution_count": 4,
   "metadata": {},
   "outputs": [],
   "source": [
    "array = np.arange(1,5)\n",
    "df = pd.DataFrame({ 'A' : 1.,\n",
    "                     'B' : pd.Timestamp(20130102),\n",
    "                     'C' : pd.Series(1,index=list(range(4)),dtype='float32'),\n",
    "                     'D' : np.array([3] * 4,dtype='int32'),\n",
    "                     'E' : \"foo\" }) #SEC: define \"foo\" as \"foo\" with quotes"
   ]
  },
  {
   "cell_type": "code",
   "execution_count": null,
   "metadata": {
    "collapsed": true
   },
   "outputs": [],
   "source": []
  }
 ],
 "metadata": {
  "kernelspec": {
   "display_name": "Python 2",
   "language": "python",
   "name": "python2"
  },
  "language_info": {
   "codemirror_mode": {
    "name": "ipython",
    "version": 2
   },
   "file_extension": ".py",
   "mimetype": "text/x-python",
   "name": "python",
   "nbconvert_exporter": "python",
   "pygments_lexer": "ipython2",
   "version": "2.7.13"
  }
 },
 "nbformat": 4,
 "nbformat_minor": 2
}
